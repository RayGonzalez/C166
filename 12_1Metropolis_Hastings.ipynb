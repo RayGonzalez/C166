{
 "cells": [
  {
   "cell_type": "code",
   "execution_count": 2,
   "metadata": {
    "collapsed": true
   },
   "outputs": [],
   "source": [
    "import scipy, scipy.stats\n",
    "import random\n",
    "import numpy as np\n",
    "import matplotlib.pyplot as plt\n",
    "%matplotlib inline"
   ]
  },
  {
   "cell_type": "code",
   "execution_count": 3,
   "metadata": {
    "collapsed": true
   },
   "outputs": [],
   "source": [
    "def f(x):\n",
    "    Z = 24.44321494051954\n",
    "    if abs(x) > 7:\n",
    "        return 0\n",
    "    elif abs(x) > 3:\n",
    "        return 3 * (1 - (x / 7) ** 2) ** 0.5 / Z\n",
    "    elif abs(x) > 1:\n",
    "        return (\n",
    "        (3 - abs(x)) / 2 - 3/7 * 10**0.5 * ((3 - x**2 + 2*abs(x))**0.5 - 2)\n",
    "        ) / Z\n",
    "    elif abs(x) > 0.75:\n",
    "        return (9 - 8 * abs(x)) / Z\n",
    "    elif abs(x) > 0.5:\n",
    "        return (3 * abs(x) + 0.75) / Z\n",
    "    else:\n",
    "        return 2.25 / Z"
   ]
  },
  {
   "cell_type": "code",
   "execution_count": null,
   "metadata": {
    "collapsed": true
   },
   "outputs": [],
   "source": [
    "def metropolis_hastings(proposal, n = 10e8):\n",
    "    "
   ]
  }
 ],
 "metadata": {
  "kernelspec": {
   "display_name": "Python 2",
   "language": "python",
   "name": "python2"
  },
  "language_info": {
   "codemirror_mode": {
    "name": "ipython",
    "version": 2
   },
   "file_extension": ".py",
   "mimetype": "text/x-python",
   "name": "python",
   "nbconvert_exporter": "python",
   "pygments_lexer": "ipython2",
   "version": "2.7.10"
  }
 },
 "nbformat": 4,
 "nbformat_minor": 2
}

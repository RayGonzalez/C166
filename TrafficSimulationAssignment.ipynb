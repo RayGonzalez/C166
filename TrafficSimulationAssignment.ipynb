{
 "cells": [
  {
   "cell_type": "markdown",
   "metadata": {},
   "source": [
    "### Part 1\n",
    "\n",
    "implement the single lane, variable speed traffic model described in this paper: Nagel, K., Schreckenberg, M. (1992). A cellular automaton model for freeway traffic. Journal de Physique I, 2(12), 2221–2229."
   ]
  },
  {
   "cell_type": "code",
   "execution_count": 76,
   "metadata": {
    "collapsed": true
   },
   "outputs": [],
   "source": [
    "import random as rd\n",
    "import scipy as sc\n",
    "import matplotlib.pyplot as plt\n",
    "import numpy as np\n",
    "%matplotlib inline"
   ]
  },
  {
   "cell_type": "code",
   "execution_count": 42,
   "metadata": {
    "collapsed": true
   },
   "outputs": [],
   "source": [
    "class TrafficSimulator:\n",
    "    \n",
    "    def __init__(self, road_len, p_car, v_max, p_slow, verbose = True ):\n",
    "        \"\"\"\n",
    "        Initialize traffic simulation:\n",
    "        road_lend: length of the road (circumference)\n",
    "        p_car: car density\n",
    "        v_max: maximum speed\n",
    "        p_slow: probability of slowing down 1 speed unit\n",
    "        verbose: whether we want to display the states\n",
    "        \"\"\"      \n",
    "        self.road_len = road_len\n",
    "        self.v_max = v_max\n",
    "        self.p_slow = p_slow\n",
    "        self.verbose = verbose        \n",
    "        self.state= sc.zeros([road_len], int)\n",
    "        \n",
    "        for i in range(road_len):\n",
    "            if rd.random() < p_car:\n",
    "                # All cars start at full speed\n",
    "                self.state[i] = self.v_max                \n",
    "            else:\n",
    "                self.state[i] = -1\n",
    "        \n",
    "    def display(self):\n",
    "        \"\"\"\n",
    "        Method for visualizing the state of the model\n",
    "        \"\"\"     \n",
    "        print(''.join('.' if x == -1 else str(x) for x in self.state))\n",
    "        \n",
    "    def update(self):\n",
    "        \"\"\"\n",
    "        Advances the simulation 1 timestep forward by doing the following on all cars:\n",
    "         - Increase speed +1 if v smaller than v_max and distance to next vehicle > v+1\n",
    "         - if distance to next car < v, slow down to d-1.\n",
    "         - If speed > 0, randomly decrease speed by 1.\n",
    "         - Display\n",
    "         - Advance all cars v steps.\n",
    "        \"\"\"      \n",
    "        flow = 0     \n",
    "        \n",
    "        for i, v in enumerate(self.state):\n",
    "            if v >= 0:\n",
    "                #get distance to next car\n",
    "                d = 1\n",
    "                while self.state[(i + d) % self.road_len] == -1 and d <= self.v_max+1:\n",
    "                    d += 1\n",
    "                #update speeds\n",
    "                if d > v + 1:\n",
    "                    self.state[i] = min(self.state[i] + 1, self.v_max)\n",
    "                else:\n",
    "                    self.state[i] = d - 1\n",
    "                if self.state[i] > 0 and rd.random() < self.p_slow:\n",
    "                    self.state[i] -= 1\n",
    "                #Count flow\n",
    "                if i + v > self.road_len: flow += 1\n",
    "                        \n",
    "        #We display before moving the cars\n",
    "        if self.verbose: self.display()    \n",
    "                \n",
    "        prev_state = self.state[:]\n",
    "        i = 0\n",
    "        while i < len(prev_state):\n",
    "            v = prev_state[i]\n",
    "            if v >= 0:\n",
    "                self.state[i] = -1\n",
    "                i += v\n",
    "                self.state[i % self.road_len] = v\n",
    "                i += 1\n",
    "            else: \n",
    "                i+=1 \n",
    "        return flow\n",
    "    \n",
    "    def run(self, n_steps = 100):\n",
    "        flow_sum = 0.0\n",
    "        for step in range(n_steps):\n",
    "            flow_sum += self.update()\n",
    "        return flow_sum / n_steps"
   ]
  },
  {
   "cell_type": "code",
   "execution_count": 43,
   "metadata": {
    "collapsed": false
   },
   "outputs": [
    {
     "name": "stdout",
     "output_type": "stream",
     "text": [
      ".......................................1..1.5....................4.................4.............5..\n",
      "..5.....................................2..1.....5...................5.................5............\n",
      ".......4..................................1.1.........5...................5.................4.......\n",
      "...........4...............................0.2.............4...................5................5...\n",
      ".4.............4...........................0...2...............4....................4...............\n",
      ".....5.............5.......................1.....3.................5....................5...........\n",
      "..........4.............5...................2.......3...................4....................5......\n",
      "..............5..............5................3........4....................5.....................4.\n",
      "..5................4..............4..............3.........4.....................5..................\n",
      ".......5...............5..............5.............3..........4......................5.............\n",
      "............5...............5..............5...........4...........5.......................5........\n",
      ".................4...............5..............4..........4............4.......................4...\n",
      "4....................4................4.............4..........4............5.......................\n",
      "....4....................5................5.............5..........4.............5..................\n",
      "........5.....................5................4.............4.........5..............5.............\n",
      ".............5.....................4...............5.............5..........4..............5........\n",
      "..................4....................5................5.............5.........5...............4...\n",
      "5.....................5.....................5................5.............4.........4..............\n",
      ".....5.....................5.....................5................4............4.........5..........\n",
      "..........5.....................5.....................4...............4............5..........5.....\n"
     ]
    },
    {
     "data": {
      "text/plain": [
       "0.2"
      ]
     },
     "execution_count": 43,
     "metadata": {},
     "output_type": "execute_result"
    }
   ],
   "source": [
    "## Example flow with  no traffic jams (low density)\n",
    "a = TrafficSimulator(road_len=100, p_car=.07, v_max=5, p_slow=.5)\n",
    "a.run(20)"
   ]
  },
  {
   "cell_type": "code",
   "execution_count": 15,
   "metadata": {
    "collapsed": false,
    "scrolled": true
   },
   "outputs": [
    {
     "name": "stdout",
     "output_type": "stream",
     "text": [
      "00000.00.1.002..04......1.3...01..000.0.1.000003....001.00.04......001.2..0.4....2...4.............0\n",
      "00000.00..001..01....2...2...01.0.000.1..000001...1.00.001.1....1..00.1..01.....1..3.....5.........0\n",
      "00001.00..01.0.0.1.....3...0.1.01.001..1.00000.2...000.00.0.1....0.00..0.1.1.....1....4.......3....0\n",
      "0001.000..1.01.1..1.......00..01.001.2..000001...0.000.00.0..1...1.00..1..0.2.....1.......5......0.0\n",
      "001.0001...01.1.2..2......00..1.000.2..000001.2..0.000.01.0...1...000...1.1...2....1...........1.1.0\n",
      "00.0001.2..0.0.2..1..2....00...0001...000000.1..00.001.0.00....1..001....1.2....3...1...........1.00\n",
      "01.000.1..00.1...1.1...1..00...001.1..000001..1.00.00.00.00.....0.00.2....1..2.....0.1...........000\n",
      "0.0000..1.00..2...0.1...0.00...01.0.0.00000.1..001.01.00.00.....0.00...2...1...3...1..2..........000\n",
      "1.0001...000....0.0..2..0.01...1.01.0.00001..0.00.01.001.01.....0.00.....2..1.....1.1...2........000\n",
      ".0001.2..000....0.0....00.1.2...01.01.0000.0.1.01.0.000.01.1....0.00.......0.1.....0.1....2......000\n",
      ".000.1..0001....1.0....01..2..1.1.01.00000.0..01.01.000.0.0.1...1.00.......0..2....1..1.....2....001\n",
      "0001..0.001.2....00....0.2...1.1.00.000000.0..0.01.0000.0.1..1...001.......0....2...2..1......2..01.\n",
      "000.1.1.01.1..2..01....1...1..1.000.000001.1..0.0.00000.1..1..1..01.1......1......3...1.2.......01.0\n",
      "001..0.00.1.2...01.1....2...1..0001.00001.0.1.0.0.00001..1..2..0.0.1.2......2........1.2..3.....1.00\n",
      "01.1.1.01..1..0.1.1.2.....1..1.000.00000.00..01.1.0001.1..1...01.1..1..3......3.......1..3...3...000\n",
      "1.1.0.00.1..0.1..1.1..2....2..0001.00000.01..0.0.0001.0.1..2..1.1.1..2....3......3.....2....2...0000\n",
      ".0.01.01..0.0..1..0.1...2....0001.000001.1.1.1.0.000.00..1...0.0.1.2...2.....4......4....2....1.0000\n",
      ".0.0.01.1.0.0...0.1..2....1..001.000000.1.1.1.00.001.00...1..0.0..2..3...3.......5......2..3...00000\n",
      ".0.1.1.1.00.0...1..1...3...1.00.0000000..1.0.000.00.001....0.1.1....3...3...4.........3...3...000000\n",
      ".1..1.1.001.1....2..1.....1.001.0000001...00.000.01.00.2...0..1.2......3...3....5........3...0000000\n"
     ]
    },
    {
     "data": {
      "text/plain": [
       "0.05"
      ]
     },
     "execution_count": 15,
     "metadata": {},
     "output_type": "execute_result"
    }
   ],
   "source": [
    "## Example flow with traffic jams (high density)\n",
    "a = TrafficSimulator(road_len=100, p_car=.4, v_max=5, p_slow=.5)\n",
    "a.run(20)"
   ]
  },
  {
   "cell_type": "code",
   "execution_count": 14,
   "metadata": {
    "collapsed": false
   },
   "outputs": [
    {
     "name": "stdout",
     "output_type": "stream",
     "text": [
      "00.0000000000000000.000.001.000000000000.01.00000000000000001.000000000.001.001.1.0000.00000.001.1.0\n",
      "01.0000000000000000.001.00.0000000000000.0.00000000000000000.0000000001.00.000.1.00000.00000.01.0.00\n",
      "1.00000000000000001.00.000.0000000000001.1.00000000000000001.000000000.000.001..000000.00001.1.01.00\n",
      ".00000000000000001.001.001.000000000000.0.00000000000000000.0000000000.000.00.0.000001.0000.0.01.000\n",
      ".0000000000000001.001.000.0000000000000.0.00000000000000000.0000000000.000.00.0.00001.00001.1.1.0001\n",
      "0000000000000000.001.0000.0000000000000.1.00000000000000000.0000000001.000.00.1.0001.00001.1.0.0001.\n",
      "0000000000000000.00.00000.0000000000000..000000000000000001.000000000.0001.00..0000.00001.1.00.001.0\n",
      "0000000000000000.00.00001.0000000000000..00000000000000000.0000000000.000.001..0001.0000.0.000.01.00\n",
      "0000000000000000.00.0000.00000000000001..00000000000000000.0000000000.000.01.0.000.00000.0.000.1.000\n",
      "0000000000000001.00.0000.0000000000001.1.00000000000000001.0000000001.000.1.01.001.00001.1.000..0000\n",
      "000000000000001.001.0001.000000000000.0.00000000000000000.0000000000.0000..00.001.00000.0.0001..0000\n",
      "00000000000000.001.0000.0000000000001.1.00000000000000000.0000000000.0000..00.00.000000.0.000.1.0000\n",
      "00000000000001.01.00000.000000000001.0.000000000000000001.0000000000.0001..01.01.000000.0.000..00000\n",
      "0000000000001.00.000001.00000000001.01.00000000000000000.00000000000.001.1.1.00.0000001.1.000..00000\n",
      "000000000000.000.00000.00000000001.01.000000000000000000.00000000001.00.0.0.001.000000.1.0000..00000\n",
      "000000000001.000.00001.0000000001.00.0000000000000000001.0000000000.000.0.0.01.0000001..00001..00000\n",
      "00000000000.0000.0000.0000000000.001.000000000000000001.00000000001.000.1.1.0.0000000.0.0000.1.00000\n",
      "00000000001.0001.0001.0000000000.00.000000000000000001.00000000000.0000..0.00.0000001.0.0001..000000\n",
      "0000000000.0001.0001.00000000000.01.00000000000000000.000000000000.0001..0.01.000000.01.001.0.000000\n",
      "0000000000.001.0001.000000000001.0.000000000000000000.000000000001.000.1.1.0.0000000.1.001.00.000000\n"
     ]
    },
    {
     "data": {
      "text/plain": [
       "0.1"
      ]
     },
     "execution_count": 14,
     "metadata": {},
     "output_type": "execute_result"
    }
   ],
   "source": [
    "## Example flow with traffic jams (high density)\n",
    "a = TrafficSimulator(road_len=100, p_car=.8, v_max=5, p_slow=.5)\n",
    "a.run(20)"
   ]
  },
  {
   "cell_type": "code",
   "execution_count": 155,
   "metadata": {
    "collapsed": false
   },
   "outputs": [
    {
     "data": {
      "image/png": "[encoded data removed]",
      "text/plain": [
       "<matplotlib.figure.Figure at 0x106e00450>"
      ]
     },
     "metadata": {},
     "output_type": "display_data"
    }
   ],
   "source": [
    "densities = sc.arange(0.02,1,.02)\n",
    "flow = [ [TrafficSimulator(100, d, 5, .1, verbose = False).run(n_steps = 200)  for i in range(20) ] for d in densities]\n",
    "plt.errorbar(densities, [np.mean(this_flow) for this_flow in flow], [np.std(this_flow) for this_flow in flow] )\n",
    "plt.title(\"Average Flow for different densities in One Lane Model\")\n",
    "plt.show()"
   ]
  },
  {
   "cell_type": "markdown",
   "metadata": {},
   "source": [
    "### Part 2: Multiple lanes\n",
    "\n",
    "Implement the 2-lane, symmetric, uni-directional, variable speed model in this paper: Rickert, M., et al. (1996). Two Lane Traffic Simulations using Cellular Automata. Physica A: Statistical Mechanics and its Applications, 231(4), 534–550.\n",
    "\n",
    "Here I made a class to create simulations with any number of lanes larger than 1. The 2 lane case follows the rules from Rickert et al. For any number of lanes larger than 2 the lanes that are not in the middle follow the same rules to switch lanes, first trying to change to the right, and if this is not possible they then try to switch to the left lane. Here lanes are changed sequentially rather than in parallel to avoid collisions (the case when a car in lane 0 and a car in lane 2 both want the same spot in lane 1).\n"
   ]
  },
  {
   "cell_type": "code",
   "execution_count": 137,
   "metadata": {
    "collapsed": true
   },
   "outputs": [],
   "source": [
    "class NLaneTrafficSimulator:\n",
    "    \n",
    "    def __init__(self, road_len, p_car, v_max, p_slow, p_change = 1, n_lanes = 3 ,verbose = True ):\n",
    "        \"\"\"\n",
    "        Initialize traffic simulation:\n",
    "        road_lend: length of the road (circumference)\n",
    "        p_car: car density\n",
    "        v_max: maximum speed\n",
    "        p_slow: probability of slowing down 1 speed unit\n",
    "        verbose: whether we want to display the states\n",
    "        \"\"\"      \n",
    "        self.road_len = road_len\n",
    "        self.v_max = v_max\n",
    "        self.p_slow = p_slow\n",
    "        self.verbose = verbose       \n",
    "        self.p_change = p_change\n",
    "        self.n_lanes = n_lanes\n",
    "        self.states = [sc.zeros([road_len], int) for i in range(n_lanes)]\n",
    "        \n",
    "        # All cars start at full speed\n",
    "        for i in range(road_len):\n",
    "            for lane_ind in range(n_lanes):\n",
    "                if rd.random() < p_car: self.states[lane_ind][i] = self.v_max\n",
    "                else: self.states[lane_ind][i] = -1\n",
    "\n",
    "                    \n",
    "    def display(self):\n",
    "        \"\"\"\n",
    "        Method for visualizing the state of the model\n",
    "        \"\"\"     \n",
    "        for i in range(self.n_lanes):\n",
    "            print(''.join('.' if x == -1 else str(x) for x in self.states[i]))\n",
    "        print\n",
    "        \n",
    "        \n",
    "    def update(self):\n",
    "        \"\"\"\n",
    "        Advances the simulation 1 timestep forward by doing the following on all cars:\n",
    "         - Increase speed +1 if v smaller than v_max and distance to next vehicle > v+1\n",
    "         - if distance to next car < v, slow down to d-1.\n",
    "         - If speed > 0, randomly decrease speed by 1.\n",
    "         - Display\n",
    "         - Advance all cars v steps.\n",
    "        \"\"\"      \n",
    "        flow = 0.0                                   \n",
    "        #check whether cars want to change\n",
    "        for lane_ind in range(self.n_lanes):            \n",
    "            #just 1 neighboring lane\n",
    "            if lane_ind == 0 or lane_ind == self.n_lanes-1:\n",
    "                if lane_ind == 0: other_lane_ind = 1\n",
    "                else: other_lane_ind = self.n_lanes-2                \n",
    "                copy_state1 = self.states[lane_ind][:]\n",
    "                copy_state2 = self.states[other_lane_ind][:]                \n",
    "                for i, v in enumerate(self.states[lane_ind]):\n",
    "                    look = v+1\n",
    "                    d = 0\n",
    "                    #look front \n",
    "                    while self.states[lane_ind][(i + d) % self.road_len] == -1 and d <= look+1: d += 1                            \n",
    "                    if look >= d:\n",
    "                        d_other = 1\n",
    "                        #look front other lane\n",
    "                        while self.states[other_lane_ind][(i + d_other) % self.road_len] == -1 and d_other <= look+1: d_other += 1 \n",
    "                        if d_other - 1 > look:\n",
    "                            #look back other lane\n",
    "                            d_back_other = 1\n",
    "                            while self.states[other_lane_ind][(i - d_back_other) % self.road_len] == -1 and d_back_other <= self.v_max+1: d_back_other += 1 \n",
    "                            if d_back_other - 1 > self.v_max:\n",
    "                                if rd.random() < self.p_change:\n",
    "                                    copy_state1[i] = -1\n",
    "                                    copy_state2[i] = v                                \n",
    "                self.states[lane_ind] = copy_state1[:]\n",
    "                self.states[other_lane_ind] = copy_state2[:]\n",
    "                                   \n",
    "            #2 neighboring lanes\n",
    "            else: \n",
    "                (left_ind, right_ind) = (lane_ind-1, lane_ind+1)\n",
    "                copy_state_left = self.states[left_ind][:]\n",
    "                copy_state_lane = self.states[lane_ind][:]\n",
    "                copy_state_right = self.states[right_ind][:]                                            \n",
    "                for i, v in enumerate(self.states[lane_ind]):\n",
    "                    look = v+1\n",
    "                    d = 0\n",
    "                    #look front \n",
    "                    while self.states[lane_ind][(i + d) % self.road_len] == -1 and d <= look+1: d += 1                            \n",
    "                    if look >= d:\n",
    "                        d_other = 1\n",
    "                        #first we try moving to the right, look front in right lane\n",
    "                        right_change = False\n",
    "                        while self.states[right_ind][(i + d_other) % self.road_len] == -1 and d_other <= look+1: d_other += 1 \n",
    "                        if d_other - 1 > look:\n",
    "                            #look back other lane\n",
    "                            d_back_other = 1\n",
    "                            while self.states[right_ind][(i - d_back_other) % self.road_len] == -1 and d_back_other <= self.v_max+1: d_back_other += 1 \n",
    "                            if d_back_other - 1 > self.v_max:\n",
    "                                if rd.random() < self.p_change:\n",
    "                                    right_change = True\n",
    "                                    copy_state_lane[i] = -1\n",
    "                                    copy_state_right[i] = v\n",
    "                        #If we didn't move to the right, try to the left\n",
    "                        if right_change == False:\n",
    "                            while self.states[left_ind][(i + d_other) % self.road_len] == -1 and d_other <= look+1: d_other += 1 \n",
    "                            if d_other - 1 > look:\n",
    "                                #look back other lane\n",
    "                                d_back_other = 1\n",
    "                                while self.states[left_ind][(i - d_back_other) % self.road_len] == -1 and d_back_other <= self.v_max+1: d_back_other += 1 \n",
    "                                if d_back_other - 1 > self.v_max:\n",
    "                                    if rd.random() < self.p_change:\n",
    "                                        copy_state_lane[i] = -1\n",
    "                                        copy_state_left[i] = v \n",
    "                                        \n",
    "                self.states[lane_ind] = copy_state_lane[:]\n",
    "                self.states[right_ind] = copy_state_right[:]\n",
    "                self.states[left_ind] = copy_state_left[:]\n",
    "                \n",
    "        #Now we update speeds\n",
    "        for lane_ind in range(self.n_lanes):\n",
    "            for i, v in enumerate(self.states[lane_ind]):\n",
    "                if v >= 0:\n",
    "                    #get distance to next car\n",
    "                    d = 1\n",
    "                    while self.states[lane_ind][(i + d) % self.road_len] == -1: d += 1                    \n",
    "                    #update speeds\n",
    "                    if d > v + 1:\n",
    "                        self.states[lane_ind][i] = min(self.states[lane_ind][i] + 1, self.v_max)\n",
    "                    else:\n",
    "                        self.states[lane_ind][i] = d - 1\n",
    "                    if self.states[lane_ind][i] > 0 and rd.random() < self.p_slow:\n",
    "                        self.states[lane_ind][i] -= 1\n",
    "                    #Count flow\n",
    "                    if i + v > self.road_len: flow += 1        \n",
    "        \n",
    "        #We display, then move the cars\n",
    "        if self.verbose: self.display()\n",
    "        for lane_ind in range(self.n_lanes):\n",
    "            copy_state = self.states[lane_ind][:]\n",
    "            i = 0\n",
    "            while i < len(copy_state):\n",
    "                v = copy_state[i]\n",
    "                if v >= 0:\n",
    "                    self.states[lane_ind][i] = -1\n",
    "                    i += v\n",
    "                    self.states[lane_ind][i % self.road_len] = v\n",
    "                    i += 1\n",
    "                else: \n",
    "                    i+=1     \n",
    "        return flow/self.n_lanes\n",
    "            \n",
    "    \n",
    "        \n",
    "    \n",
    "    def run(self, n_steps = 100):\n",
    "        if self.verbose: self.display()  \n",
    "        flow_sum = 0.0\n",
    "        for step in range(n_steps):\n",
    "            flow_sum += self.update()\n",
    "        return flow_sum / n_steps"
   ]
  },
  {
   "cell_type": "code",
   "execution_count": 152,
   "metadata": {
    "collapsed": false
   },
   "outputs": [
    {
     "name": "stdout",
     "output_type": "stream",
     "text": [
      ".55555....55.5.55555555555.5555555555555.55.555555555555555555555.5555.55.555555.5..55555..555555555\n",
      ".5555555..5.5..5555.55555555555.55555555.555555..5.555..55555.5..55.555.55.55555555555555555.555.555\n",
      "\n",
      ".00003....01.0.00000000001.0000000000000.01.000000000000000000000.0001.01.000000.1..00002..000000000\n",
      ".0000002..1.2..0001.00000000001.00000001.000001..1.001..00001.2..01.001.01.00000000000000000.000.000\n",
      "\n",
      ".0001...0.1.01.0000000000.00000000000001.1.0000000000000000000001.000.00.0000000..0.0001..0000000000\n",
      ".000000..1.1..0001.00000000001.00000000.000000.1..001.0.0000.1..01.001.01.000000000000000000.001.000\n",
      "\n",
      ".000.2..1..01.00000000001.0000000000001.0.0000000000000000000001.0000.00.0000001..1.000.0.0000000000\n",
      ".000000...1.1.001.00000000001.000000001.000001..0.01.01.0001..1.0.001.00.0000000000000000000.01.0000\n",
      "\n",
      ".001...1.1.1.00000000001.0000000000000.01.000000000000000000000.00000.01.000001.1..0001.1.0000000000\n",
      ".000001....1.001.00000000001.000000000.000000.1.1.1.00.0000.2..00.00.001.0000000000000000001.0.00001\n",
      "\n",
      ".01.2...0.1.00000000001.00000000000000.0.0000000000000000000001.00001.1.000001.0.1.001.0.00000000001\n",
      "000001.1....000.00000000001.0000000000.000001..1.1.001.0000...001.01.00.0000000000000000000.00.0000.\n",
      "\n"
     ]
    },
    {
     "data": {
      "text/plain": [
       "0.7"
      ]
     },
     "execution_count": 152,
     "metadata": {},
     "output_type": "execute_result"
    }
   ],
   "source": [
    "a = NLaneTrafficSimulator(road_len=100, p_car=.8, v_max=5, p_slow=.5, n_lanes = 2)\n",
    "a.run(5)"
   ]
  },
  {
   "cell_type": "code",
   "execution_count": 154,
   "metadata": {
    "collapsed": false
   },
   "outputs": [
    {
     "data": {
      "image/png": "[encoded data removed]",
      "text/plain": [
       "<matplotlib.figure.Figure at 0x106c90290>"
      ]
     },
     "metadata": {},
     "output_type": "display_data"
    }
   ],
   "source": [
    "densities = sc.arange(0.02,1,.02)\n",
    "flow = [ [NLaneTrafficSimulator(100, d, 5, .1, n_lanes = 2,verbose = False).run(n_steps = 200)  for i in range(20) ] for d in densities]\n",
    "plt.errorbar(densities, [np.mean(this_flow) for this_flow in flow], [np.std(this_flow) for this_flow in flow] )\n",
    "plt.title(\"Average Flow for different densities in Two Lane Model\")\n",
    "plt.show()"
   ]
  },
  {
   "cell_type": "code",
   "execution_count": null,
   "metadata": {
    "collapsed": false
   },
   "outputs": [],
   "source": [
    "densities = sc.arange(0.02,1,.02)\n",
    "flow = [ [NLaneTrafficSimulator(100, d, 5, .1, n_lanes = 8,verbose = False).run(n_steps = 200)  for i in range(20) ] for d in densities]\n",
    "plt.errorbar(densities, [np.mean(this_flow) for this_flow in flow], [np.std(this_flow) for this_flow in flow] )\n",
    "plt.title(\"Average Flow for different densities in Three Lane Model\")\n",
    "plt.show()"
   ]
  },
  {
   "cell_type": "code",
   "execution_count": null,
   "metadata": {
    "collapsed": true
   },
   "outputs": [],
   "source": [
    "a = NLaneTrafficSimulator(road_len=100, p_car=.4, v_max=5, p_slow=.5)\n",
    "a.run(5)"
   ]
  },
  {
   "cell_type": "code",
   "execution_count": 164,
   "metadata": {
    "collapsed": false
   },
   "outputs": [
    {
     "data": {
      "image/png": "[encoded data removed]",
      "text/plain": [
       "<matplotlib.figure.Figure at 0x106cbc150>"
      ]
     },
     "metadata": {},
     "output_type": "display_data"
    }
   ],
   "source": [
    "lanes_list = [2,3,4,5,6,7,8,9]\n",
    "density = 0.2\n",
    "\n",
    "flow = [ [NLaneTrafficSimulator(100, density, 5, .1, n_lanes = lanes,verbose = False).run(n_steps = 200)  for i in range(20) ] for lanes in lanes_list]\n",
    "plt.errorbar(lanes_list, [np.mean(this_flow) for this_flow in flow], [np.std(this_flow) for this_flow in flow] )\n",
    "plt.xlim(xmax = 10, xmin = 1)\n",
    "plt.title(\"Average Flow for different number of lanes, density of 0.2\")\n",
    "plt.show()"
   ]
  },
  {
   "cell_type": "markdown",
   "metadata": {},
   "source": [
    "### Appendix: Two Lane Simulator\n",
    "\n",
    "Before developing the NLaneTrafficSimulator (which can be used for any number of lanes above 1) I made a simulator for two lanes. The implementation is slighthly different from that of the NLaneTrafficSimulator (less elegant as I repeat a lot of code for every lane), but should have the same behaviour as the NLaneTrafficSimulator with n_lanes = 2. I leave this class here for reference, even though the results used in my assignment come from the TrafficSimulator and NLaneTrafficSimulator classes only"
   ]
  },
  {
   "cell_type": "code",
   "execution_count": null,
   "metadata": {
    "collapsed": true
   },
   "outputs": [],
   "source": [
    "class TwoLaneTrafficSimulator:\n",
    "    \n",
    "    def __init__(self, road_len, p_car, v_max, p_slow, p_change = 1, verbose = True ):\n",
    "        \"\"\"\n",
    "        Initialize traffic simulation:\n",
    "        road_lend: length of the road (circumference)\n",
    "        p_car: car density\n",
    "        v_max: maximum speed\n",
    "        p_slow: probability of slowing down 1 speed unit\n",
    "        verbose: whether we want to display the states\n",
    "        \"\"\"      \n",
    "        self.road_len = road_len\n",
    "        self.v_max = v_max\n",
    "        self.p_slow = p_slow\n",
    "        self.verbose = verbose       \n",
    "        self.p_change = p_change\n",
    "        self.state1 = sc.zeros([road_len], int)\n",
    "        self.state2 = sc.zeros([road_len], int)\n",
    "        \n",
    "        # All cars start at full speed\n",
    "        for i in range(road_len):\n",
    "            if rd.random() < p_car: self.state1[i] = self.v_max \n",
    "            else: self.state1[i] = -1    \n",
    "            if rd.random() < p_car: self.state2[i] = self.v_max       \n",
    "            else: self.state2[i] = -1\n",
    "                \n",
    "                \n",
    "    def display(self):\n",
    "        \"\"\"\n",
    "        Method for visualizing the state of the model\n",
    "        \"\"\"     \n",
    "        print(''.join('.' if x == -1 else str(x) for x in self.state1))        \n",
    "        print(''.join('.' if x == -1 else str(x) for x in self.state2))\n",
    "        print\n",
    "        \n",
    "        \n",
    "    def update(self):\n",
    "        \"\"\"\n",
    "        Advances the simulation 1 timestep forward by doing the following on all cars:\n",
    "         - Increase speed +1 if v smaller than v_max and distance to next vehicle > v+1\n",
    "         - if distance to next car < v, slow down to d-1.\n",
    "         - If speed > 0, randomly decrease speed by 1.\n",
    "         - Display\n",
    "         - Advance all cars v steps.\n",
    "        \"\"\"      \n",
    "        flow = 0     \n",
    "               \n",
    "        copy_state1 = self.state1[:] \n",
    "        copy_state2 = self.state2[:]\n",
    "        #check whether cars want to change\n",
    "        for i, v in enumerate(self.state1):\n",
    "            look = v+1\n",
    "            d = 0\n",
    "            #look front \n",
    "            while self.state1[(i + d) % self.road_len] == -1 and d <= look+1: d += 1                            \n",
    "            if look >= d:\n",
    "                d_other = 1\n",
    "                #look front other lane\n",
    "                while self.state2[(i + d_other) % self.road_len] == -1 and d_other <= look+1: d_other += 1 \n",
    "                if d_other - 1 > look:\n",
    "                    #look back other lane\n",
    "                    d_back_other = 1\n",
    "                    while self.state2[(i - d_back_other) % self.road_len] == -1 and d_back_other <= self.v_max+1: d_back_other += 1 \n",
    "                    if d_back_other - 1 > self.v_max:\n",
    "                        if rd.random() < self.p_change:\n",
    "                            copy_state1[i] = -1\n",
    "                            copy_state2[i] = v\n",
    "\n",
    "        for i, v in enumerate(self.state2):\n",
    "            d = 0\n",
    "            look = v+1\n",
    "            #look front\n",
    "            while self.state2[(i + d) % self.road_len] == -1 and d <= look+1: d += 1                            \n",
    "            if look >= d:\n",
    "                d_other = 1\n",
    "                #look front other lane\n",
    "                while self.state1[(i + d_other) % self.road_len] == -1 and d_other <= look+1: d_other += 1 \n",
    "                if d_other - 1 > look:\n",
    "                    #look back other lane\n",
    "                    d_back_other = 1\n",
    "                    while self.state1[(i - d_back_other) % self.road_len] == -1 and d_back_other <= self.v_max+1: d_back_other += 1 \n",
    "                    if d_back_other - 1 > self.v_max:\n",
    "                        if rd.random() < self.p_change:\n",
    "                            copy_state2[i] = -1\n",
    "                            copy_state1[i] = v         \n",
    "        self.state1 = copy_state1[:]\n",
    "        self.state2 = copy_state2[:]\n",
    "              \n",
    "        for i, v in enumerate(self.state1):\n",
    "            if v >= 0:\n",
    "                #get distance to next car\n",
    "                d = 1\n",
    "                while self.state1[(i + d) % self.road_len] == -1: d += 1                    \n",
    "                #update speeds\n",
    "                if d > v + 1:\n",
    "                    self.state1[i] = min(self.state1[i] + 1, self.v_max)\n",
    "                else:\n",
    "                    self.state1[i] = d - 1\n",
    "                if self.state1[i] > 0 and rd.random() < self.p_slow:\n",
    "                    self.state1[i] -= 1\n",
    "                #Count flow\n",
    "                if i + v > self.road_len: flow += 1\n",
    "                               \n",
    "        for i, v in enumerate(self.state2):\n",
    "            if v >= 0:\n",
    "                #get distance to next car\n",
    "                d = 1\n",
    "                while self.state2[(i + d) % self.road_len] == -1:\n",
    "                    d += 1\n",
    "                #update speeds\n",
    "                if d > v + 1:\n",
    "                    self.state2[i] = min(self.state2[i] + 1, self.v_max)\n",
    "                else:\n",
    "                    self.state2[i] = d - 1\n",
    "                if self.state2[i] > 0 and rd.random() < self.p_slow:\n",
    "                    self.state2[i] -= 1\n",
    "                #Count flow\n",
    "                if i + v > self.road_len: flow += 1        \n",
    "                               \n",
    "        #We display before moving the cars\n",
    "        if self.verbose: self.display()                    \n",
    "        copy_state = self.state1[:]\n",
    "        i = 0\n",
    "        while i < len(copy_state):\n",
    "            v = copy_state[i]\n",
    "            if v >= 0:\n",
    "                self.state1[i] = -1\n",
    "                i += v\n",
    "                self.state1[i % self.road_len] = v\n",
    "                i += 1\n",
    "            else: \n",
    "                i+=1 \n",
    "        \n",
    "        copy_state = self.state2[:]\n",
    "        i = 0\n",
    "        while i < len(copy_state):\n",
    "            v = copy_state[i]\n",
    "            if v >= 0:\n",
    "                self.state2[i] = -1\n",
    "                i += v\n",
    "                self.state2[i % self.road_len] = v\n",
    "                i += 1\n",
    "            else: \n",
    "                i+=1 \n",
    "        \n",
    "        return flow/2.0\n",
    "    \n",
    "    \n",
    "    def run(self, n_steps = 100):\n",
    "        if self.verbose: self.display()  \n",
    "        flow_sum = 0.0\n",
    "        for step in range(n_steps):\n",
    "            flow_sum += self.update()\n",
    "        return flow_sum / n_steps"
   ]
  },
  {
   "cell_type": "code",
   "execution_count": 148,
   "metadata": {
    "collapsed": false
   },
   "outputs": [
    {
     "name": "stdout",
     "output_type": "stream",
     "text": [
      "5....5....5..............5.......5........5...............5..............5......5.............5...55\n",
      ".5........5.....55.5...5.....5..........5.5..5....5.5..5....5....5..5..................5............\n",
      "\n",
      "4....4....5......5.......4.......5........4.......5.......4......5.......4......5.............3...00\n",
      ".4........5.....2..2...4.....5..........3....4......1..4....5.......4..................4............\n",
      "\n",
      "....3....4.....4......4......4........5.......5........5......5.......5......4.......5...........0.1\n",
      ".....5.........2..1..3.....4......5........3.....3...2.....4.....4......4..................4......1.\n",
      "\n",
      "1......4.....5.....4......4......5.........5.......4........4......5.......5.....5........4......0..\n",
      "..........4......1.1....4......5.......5......4.....2..2.......5.....5......4..................2...1\n",
      "\n",
      ".2.........4......2....4......4.......4.........4......5........5.......5.......5.....4.......4.....\n",
      "1.............5.....1.......4.......4.......5.....2...1..3..........5.....4.....5................0..\n",
      "\n",
      "...3...........3....3......4......5.......4.........2.......3........4.......4............4.......4.\n",
      ".2.................0.2..........4.......5........5.....2.................4....5......5...........1..\n",
      "\n",
      "..3...3...........4....3.......4.......4......5.......4........4.........5.......4............4.....\n",
      "...2...............0...2............4........5...........3...................4.....5......4.......2.\n",
      "\n",
      ".....2...3.........1..2...3........4.......5.......4......4........4..........5......4............5.\n",
      "2....3...................3..............5.........5.........4....................4......4.....4.....\n",
      "\n",
      "...3...2....3.......1...3....3.........5........4......4......5........4...........4.....4..........\n",
      "..3.....4...................3................5..................5....................5......4.....3.\n",
      "\n",
      "......2..2.....4...........3....4...........4.......5......5.......5.......5...........4.....4......\n",
      ".2...3......4........2.........3..................4..................4....................4.....3...\n",
      "\n",
      "........1..2.......5..........4.....4...........4........5......5.......4.......5..........5.....5..\n",
      "...2....3.......4......3..........4...................5..................4....................3....2\n",
      "\n"
     ]
    },
    {
     "data": {
      "text/plain": [
       "0.35"
      ]
     },
     "execution_count": 148,
     "metadata": {},
     "output_type": "execute_result"
    }
   ],
   "source": [
    "a = TwoLaneTrafficSimulator(road_len=100, p_car=.1, v_max=5, p_slow=.5)\n",
    "a.run(10)"
   ]
  },
  {
   "cell_type": "code",
   "execution_count": 149,
   "metadata": {
    "collapsed": false
   },
   "outputs": [
    {
     "data": {
      "image/png": "[encoded data removed]",
      "text/plain": [
       "<matplotlib.figure.Figure at 0x106120a10>"
      ]
     },
     "metadata": {},
     "output_type": "display_data"
    }
   ],
   "source": [
    "densities = sc.arange(0.02,1,.02)\n",
    "flow = [ [TwoLaneTrafficSimulator(100, d, 5, .1, verbose = False).run(n_steps = 200)  for i in range(20) ] for d in densities]\n",
    "plt.errorbar(densities, [np.mean(this_flow) for this_flow in flow], [np.std(this_flow) for this_flow in flow] )\n",
    "plt.title(\"Average Flow for different densities\")\n",
    "plt.show()"
   ]
  }
 ],
 "metadata": {
  "kernelspec": {
   "display_name": "Python 2",
   "language": "python",
   "name": "python2"
  },
  "language_info": {
   "codemirror_mode": {
    "name": "ipython",
    "version": 2
   },
   "file_extension": ".py",
   "mimetype": "text/x-python",
   "name": "python",
   "nbconvert_exporter": "python",
   "pygments_lexer": "ipython2",
   "version": "2.7.10"
  }
 },
 "nbformat": 4,
 "nbformat_minor": 1
}

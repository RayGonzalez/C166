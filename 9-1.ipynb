{
 "cells": [
  {
   "cell_type": "markdown",
   "metadata": {},
   "source": [
    "Sayama Exercise 18.5"
   ]
  },
  {
   "cell_type": "markdown",
   "metadata": {},
   "source": [
    "#### Note: \n",
    "pycxsimulator will not work properly in a notebook (at least in the way it is implemented here) run code as a .py file. "
   ]
  },
  {
   "cell_type": "code",
   "execution_count": null,
   "metadata": {
    "collapsed": true
   },
   "outputs": [],
   "source": [
    "import matplotlib\n",
    "matplotlib.use('TkAgg')\n",
    "from pylab import *\n",
    "import networkx as nx\n",
    "import random as rd\n",
    "\n",
    "\n",
    "def initialize():\n",
    "    global g\n",
    "    g = nx.erdos_renyi_graph(100, 0.1)\n",
    "    g.pos = nx.spring_layout(g)\n",
    "    for i in g.nodes:\n",
    "        g.nodes[i]['state'] = 1 if random() < .5 else 0\n",
    "\n",
    "def observe():\n",
    "    global g\n",
    "    cla()\n",
    "    nx.draw(g, vmin = 0, vmax = 1,\n",
    "            node_color = [g.nodes[i]['state'] for i in g.nodes],\n",
    "            pos = g.pos)\n",
    "\n",
    "def async_update():\n",
    "    global g\n",
    "    a = rd.choice(list(g.nodes))\n",
    "    if g.nodes[a]['state'] == 0: # if susceptible\n",
    "        b = rd.choice(list(g.neighbors(a)))\n",
    "        if g.nodes[b]['state'] == 1: # if neighbor b is infected\n",
    "            g.nodes[a]['state'] = 1 if random() < p_i else 0\n",
    "    else: # if infected\n",
    "        g.nodes[a]['state'] = 0 if random() < p_r else 1\n",
    "\n",
    "\n",
    "def sync_update():\n",
    "    global g\n",
    "    for node in list(g.nodes):\n",
    "        print \"this\"\n",
    "        if g.nodes[node]['state'] == 0: # if susceptible\n",
    "            g.nodes[node]['next_state'] = 0\n",
    "            for neighbor in list(g.neighbors(node)):\n",
    "                if g.nodes[neighbor]['state'] == 1: # if neighbor  is infected\n",
    "                    if random() < p_i:\n",
    "                        g.nodes[node]['next_state'] = 1\n",
    "                        #break\n",
    "        else: g.nodes[node]['next_state'] = 0 if random() < p_r else 1\n",
    "    #update all\n",
    "    for node in list(g.nodes):\n",
    "        g.nodes[node]['state'] = g.nodes[node]['next_state']\n",
    "\n",
    "\n",
    "p_i, p_r = (0.5, 0.5)  \n",
    "\n",
    "\n",
    "        \n",
    "import pycxsimulator\n",
    "pycxsimulator.GUI().start(func=[initialize, observe, sync_update])"
   ]
  },
  {
   "cell_type": "markdown",
   "metadata": {},
   "source": [
    "#### b. Question: Why does using synchronous or asynchronous updating make adifference?\n",
    "In asynchronous updates, a node that would be infected by a neighbor at some time t would remain healthy if we happen to choose the infected neighbor in time t-1 and it recovers. This would not happen in synchronous updates, in which the infected neighbor can recover in time t but at the same time infect it's neighboor. Hence, whehther we do synchronous or asynchronous updates can influence the outcome.\n",
    "\n",
    "\n",
    "#### c. Question: For the mean field approximation described in Section 18.5, why is itappropriate to use the synchronous update method and not the asynchronous one?\n",
    "\n",
    "In mean field approximation we are calculating the probability that a healthy node will not be infected next, and this expression involves (1-p_eqp_i)^(n-1), which means that for every neighboor we check wether there is an edge, wether the neighbor is infected and whether the disease will be transmitted. Hence, the probability of being infected at the next step is assumed to be dependent on all the neighbors at the same time (rather than choosing a random neighboor and updating based on that). Note that synchronous updates is also how we updated CA for mean field approximation."
   ]
  },
  {
   "cell_type": "markdown",
   "metadata": {},
   "source": [
    "Experimentally confirm the “your friends have more friends than you do” observation\n",
    "from pp421–422 in the textbook.\n",
    "\n",
    "a. Generate a random network with 1000 nodes and (approximately) 20,000 edges,\n",
    "so that the average degree of a node is 40. Do this for each of the following types\n",
    "of random networks and compare your observations: Erdős–Renyi,\n",
    "Watts–Strogatz, Barabási–Albert random graphs.\n",
    "\n",
    "b. Write code to compute the average degree (which should be 40 — this is just to\n",
    "confirm that you generated the graph correctly).\n",
    "\n",
    "c. Write code to compute the average degree of each neighbor in the graph. To loop\n",
    "through all neighbors in the graph, loop through all edges and then through each\n",
    "node attached to an edge.\n",
    "\n"
   ]
  },
  {
   "cell_type": "code",
   "execution_count": 55,
   "metadata": {
    "collapsed": false
   },
   "outputs": [
    {
     "name": "stdout",
     "output_type": "stream",
     "text": [
      "39.576\n",
      "40.5846977966\n"
     ]
    }
   ],
   "source": [
    "n = 1000\n",
    "k = 40\n",
    "\n",
    "#Erdos-Renyi\n",
    "# p = 20,000 / (1000*999/2) = .04\n",
    "g = nx.erdos_renyi_graph(1000, 20000.0/(500*999))\n",
    "print(np.mean(g.degree, axis=0)[1])\n",
    "print(np.mean([(g.degree[edge[0]], g.degree[edge[1]]) for edge in g.edges]))"
   ]
  },
  {
   "cell_type": "code",
   "execution_count": 57,
   "metadata": {
    "collapsed": false
   },
   "outputs": [
    {
     "name": "stdout",
     "output_type": "stream",
     "text": [
      "40.0\n",
      "40.1672\n"
     ]
    }
   ],
   "source": [
    "#Watts-Strogatz\n",
    "g = nx.generators.random_graphs.watts_strogatz_graph(1000, 40, .2)\n",
    "print(np.mean(g.degree, axis=0)[1])\n",
    "print(np.mean([(g.degree[edge[0]], g.degree[edge[1]]) for edge in g.edges]))"
   ]
  },
  {
   "cell_type": "code",
   "execution_count": 64,
   "metadata": {
    "collapsed": false
   },
   "outputs": [
    {
     "name": "stdout",
     "output_type": "stream",
     "text": [
      "39.2\n",
      "61.5350510204\n"
     ]
    }
   ],
   "source": [
    "#Barabasi-Albert   <k> = 2m\n",
    "g = nx.generators.random_graphs.barabasi_albert_graph(1000, 20)\n",
    "print(np.mean(g.degree, axis=0)[1])\n",
    "print(np.mean([(g.degree[edge[0]], g.degree[edge[1]]) for edge in g.edges]))"
   ]
  },
  {
   "cell_type": "markdown",
   "metadata": {},
   "source": [
    "##### d. Question: How does the average degree of neighbors (the number of friends of your friends) compare to the average degree of the graph (your number of friends)?\n",
    "\n",
    "The average degree of neighbors is always larger than the average degree of the graph, which confirms the friendship paradox. This difference is small in Erdos-Renyi and Watts-Strogartz but quite large in Barabasi-Albert. This makes intuitive sense because the former have more uniform degree distributions, while the later has a scale free distribution so that sampling bias can have a notorious effect."
   ]
  },
  {
   "cell_type": "code",
   "execution_count": null,
   "metadata": {
    "collapsed": true
   },
   "outputs": [],
   "source": []
  }
 ],
 "metadata": {
  "kernelspec": {
   "display_name": "Python 2",
   "language": "python",
   "name": "python2"
  },
  "language_info": {
   "codemirror_mode": {
    "name": "ipython",
    "version": 2
   },
   "file_extension": ".py",
   "mimetype": "text/x-python",
   "name": "python",
   "nbconvert_exporter": "python",
   "pygments_lexer": "ipython2",
   "version": "2.7.10"
  }
 },
 "nbformat": 4,
 "nbformat_minor": 1
}

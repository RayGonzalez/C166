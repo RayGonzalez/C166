{
 "cells": [
  {
   "cell_type": "code",
   "execution_count": 15,
   "metadata": {
    "collapsed": false
   },
   "outputs": [],
   "source": [
    "class Person(object):\n",
    "    # Rocket simulates a rocket ship for a game,\n",
    "    #  or a physics simulation.\n",
    "    \n",
    "    def __init__(self, name = '', age = 0.0, health = 100, wisdom = 0):\n",
    "        \n",
    "        self.name = name\n",
    "        self.age = age\n",
    "        self.health = health\n",
    "        self.wisdom = wisdom\n",
    "\n",
    "    def study(self, years = 1):        \n",
    "        self.age += years\n",
    "        self.health += - 10*years\n",
    "        self.wisdom += 0.5*years\n",
    "        "
   ]
  },
  {
   "cell_type": "code",
   "execution_count": 16,
   "metadata": {
    "collapsed": false
   },
   "outputs": [
    {
     "name": "stdout",
     "output_type": "stream",
     "text": [
      "20.0\n",
      "100\n",
      "0\n",
      "24.0\n",
      "60\n",
      "2.0\n"
     ]
    }
   ],
   "source": [
    "Ray = Person('Ray', age = 20.0)\n",
    "print Ray.age \n",
    "print Ray.health\n",
    "print Ray.wisdom\n",
    "\n",
    "Ray.study(years = 4)\n",
    "\n",
    "print Ray.age\n",
    "print Ray.health\n",
    "print Ray.wisdom\n"
   ]
  },
  {
   "cell_type": "code",
   "execution_count": 17,
   "metadata": {
    "collapsed": false
   },
   "outputs": [],
   "source": [
    "Minerva = [Person() for i in range(200)]\n",
    "for student in Minerva: student.study(years = 4.0)"
   ]
  },
  {
   "cell_type": "code",
   "execution_count": null,
   "metadata": {
    "collapsed": true
   },
   "outputs": [],
   "source": []
  }
 ],
 "metadata": {
  "kernelspec": {
   "display_name": "Python 2",
   "language": "python",
   "name": "python2"
  },
  "language_info": {
   "codemirror_mode": {
    "name": "ipython",
    "version": 2
   },
   "file_extension": ".py",
   "mimetype": "text/x-python",
   "name": "python",
   "nbconvert_exporter": "python",
   "pygments_lexer": "ipython2",
   "version": "2.7.10"
  }
 },
 "nbformat": 4,
 "nbformat_minor": 1
}

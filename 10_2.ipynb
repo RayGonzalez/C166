{
 "cells": [
  {
   "cell_type": "markdown",
   "metadata": {},
   "source": [
    "Shonkwiler & Mendivil, Exercise 14, page 96. (Sampling bias for bus waiting times)\n",
    "Suppose the interarrival time for a city bus has an exponential distribution with\n",
    "parameter 1/λ. A passenger arrives at a uniformly random time and records the time until\n",
    "the next bus arrives. What is the expected waiting time? Use a simulation to get an\n",
    "answer. Is the answer surprising? Now suppose instead that the interarrival time is U (0,\n",
    "2λ). How does this change the situation? (Notice that the expected interarrival time is λ\n",
    "in both cases.)\n",
    "Note that there are 2 common, equivalent parameterizations of the exponential\n",
    "distribution.\n",
    "\n",
    "○ Exponential( x  |  λ ) =  $λ  e ^{–λx}$\n",
    ". This is used in Shonkwiler & Mendivil.\n",
    "\n",
    "\n",
    "○ Exponential( x  |  β ) =  $β ^{–1} e ^{–x / β}$ \n",
    "\n",
    "This is used in Scipy. So if you import scipy and\n",
    "generate exponentially distributed random values using\n",
    "scipy.random.exponential(beta), you should use β  =  $λ ^{–1}$\n",
    "."
   ]
  },
  {
   "cell_type": "code",
   "execution_count": 6,
   "metadata": {
    "collapsed": false
   },
   "outputs": [],
   "source": [
    "import scipy\n",
    "import random as rd\n",
    "import numpy as np\n",
    "\n",
    "def waitbus(beta, p_pass, t = 10000):\n",
    "    passengers = []\n",
    "    wait_times = []\n",
    "    bus = -0.1\n",
    "    for t in range(int(t)):\n",
    "        #passenger\n",
    "        if rd.random() < p_pass: passengers.append(t)\n",
    "        #bus arrived\n",
    "        if bus < t : \n",
    "            for waiting in passengers: wait_times.append(t - waiting)\n",
    "            passengers = []\n",
    "            bus += scipy.random.exponential(beta)\n",
    "                       \n",
    "    return wait_times\n",
    "            \n",
    "    "
   ]
  },
  {
   "cell_type": "code",
   "execution_count": 7,
   "metadata": {
    "collapsed": false,
    "scrolled": false
   },
   "outputs": [
    {
     "name": "stdout",
     "output_type": "stream",
     "text": [
      "Expected value:  9.47720698254\n"
     ]
    }
   ],
   "source": [
    "print \"Expected value: \" , np.mean(waitbus(beta = 10, p_pass = 0.1, t = 1e5))"
   ]
  },
  {
   "cell_type": "markdown",
   "metadata": {},
   "source": [
    "Shonkwiler & Mendivil, Exercise 24, page 98 (Retirement benefit projection) At age 50 Fannie Mae has \\$150,000 invested and will be investing another $10,000 per year until age 70. Each year the investment grows according to an interest rate that is normally distributed with mean 8% and standard deviation 9%. At age 70, Fannie Mae then retires and withdraws \\$65,000 per year until death. Below is given a conditional death probability table. Thus if Fannie Mae lives until age 70, then the probability of dying before age 71 is 0.04979. Simulate this process 1000 times and histogram the amount of money Fannie Mae has at death."
   ]
  },
  {
   "cell_type": "code",
   "execution_count": 8,
   "metadata": {
    "collapsed": true
   },
   "outputs": [],
   "source": [
    "data = {\n",
    "50: 0.00832, 51: 0.00911, 52: 0.00996, 53: 0.01089, 54: 0.01190,\n",
    "55: 0.01300, 56: 0.01421, 57: 0.01554, 58: 0.01700, 59: 0.01859,\n",
    "60: 0.02034, 61: 0.02224, 62: 0.02431, 63: 0.02657, 64: 0.02904,\n",
    "65: 0.03175, 66: 0.03474, 67: 0.03804, 68: 0.04168, 69: 0.04561,\n",
    "70: 0.04979, 71: 0.05415, 72: 0.05865, 73: 0.06326, 74: 0.06812,\n",
    "75: 0.07337, 76: 0.07918, 77: 0.08570, 78: 0.09306, 79: 0.10119,\n",
    "80: 0.10998, 81: 0.11935, 82: 0.12917, 83: 0.13938, 84: 0.15001,\n",
    "85: 0.16114, 86: 0.17282, 87: 0.18513, 88: 0.19825, 89: 0.21246,\n",
    "90: 0.22814, 91: 0.24577, 92: 0.26593, 93: 0.28930, 94: 0.31666,\n",
    "95: 0.35124, 96: 0.40056, 97: 0.48842, 98: 0.66815, 99: 0.72000,\n",
    "100: 0.76000, 101: 0.80000, 102: 0.85000, 103: 0.90000,\n",
    "104: 0.96000, 105: 1.00000}"
   ]
  },
  {
   "cell_type": "code",
   "execution_count": null,
   "metadata": {
    "collapsed": true
   },
   "outputs": [],
   "source": [
    "def fannie(mortality_list):\n",
    "    investment = 150000\n",
    "    age = 50\n",
    "    p_death = rd.random()\n",
    "    \n",
    "    while p_death > mortality_list[age]:\n",
    "        if age < 70: investment += 10000\n",
    "        else: investment -= 65000\n",
    "        interest = scipy.random.normal(0.08, 0.09)\n",
    "        investment *= 1 + interest\n",
    "        age +="
   ]
  }
 ],
 "metadata": {
  "kernelspec": {
   "display_name": "Python 2",
   "language": "python",
   "name": "python2"
  },
  "language_info": {
   "codemirror_mode": {
    "name": "ipython",
    "version": 2
   },
   "file_extension": ".py",
   "mimetype": "text/x-python",
   "name": "python",
   "nbconvert_exporter": "python",
   "pygments_lexer": "ipython2",
   "version": "2.7.10"
  }
 },
 "nbformat": 4,
 "nbformat_minor": 1
}
